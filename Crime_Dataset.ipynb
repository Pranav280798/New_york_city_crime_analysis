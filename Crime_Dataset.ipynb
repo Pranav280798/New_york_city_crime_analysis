{
  "nbformat": 4,
  "nbformat_minor": 0,
  "metadata": {
    "colab": {
      "provenance": []
    },
    "kernelspec": {
      "name": "python3",
      "display_name": "Python 3"
    },
    "language_info": {
      "name": "python"
    }
  },
  "cells": [
    {
      "cell_type": "code",
      "execution_count": 3,
      "metadata": {
        "colab": {
          "base_uri": "https://localhost:8080/"
        },
        "id": "RnRzsBCgIvEm",
        "outputId": "f68c6f35-df1b-4038-d487-94761d0b43a3"
      },
      "outputs": [
        {
          "output_type": "stream",
          "name": "stdout",
          "text": [
            "Looking in indexes: https://pypi.org/simple, https://us-python.pkg.dev/colab-wheels/public/simple/\n",
            "Collecting pyspark\n",
            "  Downloading pyspark-3.3.0.tar.gz (281.3 MB)\n",
            "\u001b[K     |████████████████████████████████| 281.3 MB 51 kB/s \n",
            "\u001b[?25hCollecting py4j==0.10.9.5\n",
            "  Downloading py4j-0.10.9.5-py2.py3-none-any.whl (199 kB)\n",
            "\u001b[K     |████████████████████████████████| 199 kB 57.5 MB/s \n",
            "\u001b[?25hBuilding wheels for collected packages: pyspark\n",
            "  Building wheel for pyspark (setup.py) ... \u001b[?25l\u001b[?25hdone\n",
            "  Created wheel for pyspark: filename=pyspark-3.3.0-py2.py3-none-any.whl size=281764026 sha256=ea85eba84b20ea819f6cfab5d48841c4b8cca3cc5113ac0e210801f389b4799f\n",
            "  Stored in directory: /root/.cache/pip/wheels/7a/8e/1b/f73a52650d2e5f337708d9f6a1750d451a7349a867f928b885\n",
            "Successfully built pyspark\n",
            "Installing collected packages: py4j, pyspark\n",
            "Successfully installed py4j-0.10.9.5 pyspark-3.3.0\n"
          ]
        }
      ],
      "source": [
        "!pip install pyspark"
      ]
    },
    {
      "cell_type": "code",
      "source": [
        "import pyspark\n",
        "from pyspark import SparkContext\n",
        "from pyspark.sql import SparkSession\n",
        "from pyspark.sql import SQLContext\n",
        "from functools import reduce\n",
        "from pyspark.sql import DataFrame\n",
        "from pyspark.sql.functions import *"
      ],
      "metadata": {
        "id": "b3vvu4gkM-5X"
      },
      "execution_count": 6,
      "outputs": []
    },
    {
      "cell_type": "code",
      "source": [
        "import pandas as pd"
      ],
      "metadata": {
        "id": "IUa044AENqS1"
      },
      "execution_count": 7,
      "outputs": []
    },
    {
      "cell_type": "code",
      "source": [
        "import numpy as np"
      ],
      "metadata": {
        "id": "DGLoHZq8N40D"
      },
      "execution_count": 8,
      "outputs": []
    },
    {
      "cell_type": "code",
      "source": [
        "spark = SparkSession.builder.appName(\"Crime_DataPreprocessing\").getOrCreate()"
      ],
      "metadata": {
        "id": "OnyBFA6QN_C7"
      },
      "execution_count": 9,
      "outputs": []
    },
    {
      "cell_type": "code",
      "source": [
        "data = spark.read.csv(r\"crime.csv\",header = 'True' ,inferSchema='True')"
      ],
      "metadata": {
        "id": "ary86W7kOFoR"
      },
      "execution_count": 10,
      "outputs": []
    },
    {
      "cell_type": "code",
      "source": [
        "data.show()"
      ],
      "metadata": {
        "colab": {
          "base_uri": "https://localhost:8080/"
        },
        "id": "gfsjd2OFOMlT",
        "outputId": "d9cfaad1-91f8-410d-b314-12294fc6d22a"
      },
      "execution_count": 11,
      "outputs": [
        {
          "output_type": "stream",
          "name": "stdout",
          "text": [
            "+----------+------------+-------------------+------------+-------------------+-----------+----------+-----+--------------------+-----+--------------------+----------------+-----------+---------+-----------------+--------------------+-------------------+-----------------+--------+----------+-----------+----------+----------+--------------+--------------+--------+----------------+------------------+------------------+--------------------+--------------------+------------+-------------+--------------+-------+\n",
            "|CMPLNT_NUM|CMPLNT_FR_DT|       CMPLNT_FR_TM|CMPLNT_TO_DT|       CMPLNT_TO_TM|ADDR_PCT_CD|    RPT_DT|KY_CD|           OFNS_DESC|PD_CD|             PD_DESC|CRM_ATPT_CPTD_CD| LAW_CAT_CD|  BORO_NM|LOC_OF_OCCUR_DESC|       PREM_TYP_DESC|         JURIS_DESC|JURISDICTION_CODE|PARKS_NM|HADEVELOPT|HOUSING_PSA|X_COORD_CD|Y_COORD_CD|SUSP_AGE_GROUP|     SUSP_RACE|SUSP_SEX|TRANSIT_DISTRICT|          Latitude|         Longitude|             Lat_Lon|         PATROL_BORO|STATION_NAME|VIC_AGE_GROUP|      VIC_RACE|VIC_SEX|\n",
            "+----------+------------+-------------------+------------+-------------------+-----------+----------+-----+--------------------+-----+--------------------+----------------+-----------+---------+-----------------+--------------------+-------------------+-----------------+--------+----------+-----------+----------+----------+--------------+--------------+--------+----------------+------------------+------------------+--------------------+--------------------+------------+-------------+--------------+-------+\n",
            "| 394506329|  12/31/2019|2022-09-13 17:30:00|        null|               null|       32.0|12/31/2019|  118|   DANGEROUS WEAPONS|793.0|WEAPONS POSSESSION 3|       COMPLETED|     FELONY|MANHATTAN|             null|              STREET|   N.Y. POLICE DEPT|              0.0|    null|      null|       null|  999937.0|  238365.0|          null|          null|    null|            null| 40.82092679700002|-73.94332421899996|(40.8209267970000...|PATROL BORO MAN N...|        null|      UNKNOWN|       UNKNOWN|      E|\n",
            "| 968873685|  12/29/2019|2022-09-13 16:31:00|  12/29/2019|2022-09-13 16:54:00|       47.0|12/29/2019|  113|             FORGERY|729.0|FORGERY,ETC.,UNCL...|       COMPLETED|     FELONY|    BRONX|             null|              STREET|   N.Y. POLICE DEPT|              0.0|    null|      null|       null| 1022508.0|  261990.0|          null|          null|    null|            null| 40.88570140600008|-73.86164032499995|(40.8857014060000...|   PATROL BORO BRONX|        null|      UNKNOWN|       UNKNOWN|      E|\n",
            "| 509837549|  12/15/2019|2022-09-13 18:45:00|        null|               null|      109.0|12/29/2019|  578|       HARRASSMENT 2|638.0|HARASSMENT,SUBD 3...|       COMPLETED|  VIOLATION|   QUEENS|         FRONT OF|              STREET|   N.Y. POLICE DEPT|              0.0|    null|      null|       null| 1034178.0|  209758.0|         25-44|       UNKNOWN|       M|            null| 40.74228115600005|      -73.81982408|(40.7422811560000...|PATROL BORO QUEEN...|        null|        25-44|WHITE HISPANIC|      F|\n",
            "| 352454313|  12/28/2019|2022-09-13 01:00:00|        null|               null|       47.0|12/28/2019|  126|MISCELLANEOUS PEN...|117.0|RECKLESS ENDANGER...|       COMPLETED|     FELONY|    BRONX|          REAR OF|              STREET|   N.Y. POLICE DEPT|              0.0|    null|      null|       null| 1026412.0|  258211.0|         18-24|         BLACK|       M|            null| 40.87531145100007|-73.84754521099995|(40.8753114510000...|   PATROL BORO BRONX|        null|      UNKNOWN|       UNKNOWN|      E|\n",
            "| 248803469|  09/05/2008|2022-09-13 21:41:00|        null|               null|       null|09/05/2008|  101|MURDER & NON-NEGL...| null|                null|       COMPLETED|     FELONY|     null|          OUTSIDE|                null|   N.Y. POLICE DEPT|             null|    null|      null|       null| 1001215.0|  193881.0|          null|          null|    null|            null|      40.698827283|     -73.938819047|(40.698827283, -7...|                null|        null|        25-44|         BLACK|      M|\n",
            "| 293718737|  12/27/2019|2022-09-13 22:00:00|        null|               null|        9.0|12/27/2019|  107|            BURGLARY|223.0|BURGLARY,RESIDENC...|       ATTEMPTED|     FELONY|MANHATTAN|         FRONT OF|RESIDENCE - APT. ...|   N.Y. POLICE DEPT|              0.0|    null|      null|       null|  989665.0|  201866.0|          null|          null|    null|            null| 40.72075882100006|-73.98046642299995|(40.7207588210000...|PATROL BORO MAN S...|        null|      UNKNOWN|       UNKNOWN|      M|\n",
            "| 552685226|  12/27/2019|2022-09-13 20:10:00|  12/27/2019|2022-09-13 20:15:00|       79.0|12/27/2019|  117|     DANGEROUS DRUGS|521.0|CONTROLLED SUBSTA...|       COMPLETED|     FELONY| BROOKLYN|             null|              STREET|   N.Y. POLICE DEPT|              0.0|    null|      null|       null| 1001545.0|  192836.0|          null|          null|    null|            null|40.695958362000056|-73.93763162199998|(40.6959583620000...|PATROL BORO BKLYN...|        null|      UNKNOWN|       UNKNOWN|      E|\n",
            "| 134037758|  12/26/2019|2022-09-13 20:00:00|  12/27/2019|2022-09-13 07:15:00|      101.0|12/27/2019|  341|       PETIT LARCENY|321.0|LARCENY,PETIT FRO...|       COMPLETED|MISDEMEANOR|   QUEENS|         FRONT OF|              STREET|   N.Y. POLICE DEPT|              0.0|    null|      null|       null| 1054394.0|  162186.0|          null|          null|    null|            null| 40.61157006600007|-73.74736517199995|(40.6115700660000...|PATROL BORO QUEEN...|        null|        25-44|WHITE HISPANIC|      F|\n",
            "| 855385879|  12/26/2019|2022-09-13 19:57:00|        null|               null|       44.0|12/26/2019|  361|OFF. AGNST PUB OR...|639.0|AGGRAVATED HARASS...|       COMPLETED|MISDEMEANOR|    BRONX|             null|              STREET|   N.Y. POLICE DEPT|              0.0|    null|      null|       null| 1007027.0|  245405.0|         18-24|         BLACK|       F|            null| 40.84023413800003|-73.91768411399994|(40.8402341380000...|   PATROL BORO BRONX|        null|        18-24|         BLACK|      F|\n",
            "| 241602326|  12/25/2019|2022-09-13 23:00:00|  12/26/2019|2022-09-13 14:25:00|       20.0|12/26/2019|  341|       PETIT LARCENY|321.0|LARCENY,PETIT FRO...|       COMPLETED|MISDEMEANOR|MANHATTAN|             null|              STREET|   N.Y. POLICE DEPT|              0.0|    null|      null|       null|  987147.0|  220853.0|          null|          null|    null|            null| 40.77287456000005|-73.98954212299998|(40.7728745600000...|PATROL BORO MAN N...|        null|        45-64|         BLACK|      M|\n",
            "| 585574881|  12/24/2019|2022-09-13 16:00:00|        null|               null|       14.0|12/24/2019|  109|       GRAND LARCENY|433.0|LARCENY,GRAND FRO...|       COMPLETED|     FELONY|MANHATTAN|           INSIDE|    DEPARTMENT STORE|   N.Y. POLICE DEPT|              0.0|    null|      null|       null|  987220.0|  212676.0|          null|          null|    null|            null| 40.75043076800005|-73.98928217599996|(40.7504307680000...|PATROL BORO MAN S...|        null|      UNKNOWN|       UNKNOWN|      D|\n",
            "| 916172359|  12/21/2019|2022-09-13 20:00:00|  12/21/2019|2022-09-13 20:30:00|       25.0|12/24/2019|  341|       PETIT LARCENY|301.0|LARCENY,PETIT BY ...|       COMPLETED|MISDEMEANOR|MANHATTAN|             null|               OTHER|   N.Y. POLICE DEPT|              0.0|    null|      null|       null| 1001150.0|  231355.0|       UNKNOWN|       UNKNOWN|       U|            null| 40.80168405900002|-73.93895929199994|(40.8016840590000...|PATROL BORO MAN N...|        null|        25-44|       UNKNOWN|      F|\n",
            "| 946914583|  12/22/2019|2022-09-13 04:15:00|  12/22/2019|2022-09-13 04:24:00|      108.0|12/22/2019|  113|             FORGERY|729.0|FORGERY,ETC.,UNCL...|       COMPLETED|     FELONY|   QUEENS|             null|              STREET|   N.Y. POLICE DEPT|              0.0|    null|      null|       null|  996424.0|  210017.0|          null|          null|    null|            null|40.743124599000055|-73.95606807299998|(40.7431245990000...|PATROL BORO QUEEN...|        null|      UNKNOWN|       UNKNOWN|      E|\n",
            "| 355952564|  12/21/2019|2022-09-13 02:35:00|        null|               null|       46.0|12/21/2019|  101|MURDER & NON-NEGL...| null|                null|       COMPLETED|     FELONY|     null|           INSIDE|                null|   N.Y. POLICE DEPT|             null|    null|      null|       null| 1009507.0|  252093.0|         18-24|BLACK HISPANIC|       M|            null| 40.85858397000004|-73.90869606999998|(40.8585839700000...|                null|        null|        18-24|WHITE HISPANIC|      M|\n",
            "| 249276017|  12/20/2019|2022-09-13 14:00:00|        null|               null|       42.0|12/21/2019|  106|      FELONY ASSAULT|109.0|ASSAULT 2,1,UNCLA...|       COMPLETED|     FELONY|    BRONX|             null|              STREET|   N.Y. POLICE DEPT|              0.0|    null|      null|       null| 1008690.0|  238862.0|       UNKNOWN|       UNKNOWN|       U|            null| 40.82227104100008|-73.91169777999993|(40.8222710410000...|   PATROL BORO BRONX|        null|          <18|BLACK HISPANIC|      M|\n",
            "| 636997863|  12/20/2019|2022-09-13 22:18:00|        null|               null|       52.0|12/20/2019|  344|ASSAULT 3 & RELAT...|114.0| OBSTR BREATH/CIRCUL|       COMPLETED|MISDEMEANOR|    BRONX|           INSIDE|RESIDENCE - APT. ...|   N.Y. POLICE DEPT|              0.0|    null|      null|       null| 1014563.0|  253789.0|         25-44|         BLACK|       M|            null| 40.86322306500005|-73.89041071099996|(40.8632230650000...|   PATROL BORO BRONX|        null|        18-24|         BLACK|      F|\n",
            "| 183266811|  12/20/2019|2022-09-13 01:35:00|  12/20/2019|2022-09-13 01:44:00|       66.0|12/20/2019|  107|            BURGLARY|223.0|BURGLARY,RESIDENC...|       COMPLETED|     FELONY| BROOKLYN|          REAR OF|     RESIDENCE-HOUSE|   N.Y. POLICE DEPT|              0.0|    null|      null|       null|  989260.0|  169727.0|          null|          null|    null|            null| 40.63254475200006|-73.98195137599998|(40.6325447520000...|PATROL BORO BKLYN...|        null|          65+|         WHITE|      F|\n",
            "| 699043216|  12/20/2019|2022-09-13 00:07:00|  12/20/2019|2022-09-13 00:12:00|       50.0|12/20/2019|  341|       PETIT LARCENY|339.0|LARCENY,PETIT FRO...|       COMPLETED|MISDEMEANOR|    BRONX|             null|               OTHER|        METRO NORTH|             15.0|    null|      null|       null| 1008839.0|  257949.0|          null|          null|    null|            null| 40.87465879000007|-73.91108943699999|(40.8746587900000...|   PATROL BORO BRONX|        null|        25-44|         WHITE|      F|\n",
            "| 431547413|  12/10/2019|2022-09-13 20:06:00|  12/10/2019|2022-09-13 20:24:00|        7.0|12/20/2019|  114|               ARSON|263.0|         ARSON 2,3,4|       COMPLETED|     FELONY|MANHATTAN|           INSIDE|RESIDENCE - PUBLI...|N.Y. HOUSING POLICE|              2.0|    null|LA GUARDIA|      575.0|  987063.0|  198657.0|          null|          null|    null|            null| 40.71195209300004|-73.98985467599994|(40.7119520930000...|PATROL BORO MAN S...|        null|      UNKNOWN|       UNKNOWN|      E|\n",
            "| 800366831|  12/19/2019|2022-09-13 17:50:00|        null|               null|       43.0|12/19/2019|  341|       PETIT LARCENY|333.0|LARCENY,PETIT FRO...|       COMPLETED|MISDEMEANOR|    BRONX|           INSIDE|    DEPARTMENT STORE|   N.Y. POLICE DEPT|              0.0|    null|      null|       null| 1023380.0|  239329.0|         45-64|WHITE HISPANIC|       M|            null|40.823499964000064|-73.85861898699994|(40.8234999640000...|   PATROL BORO BRONX|        null|      UNKNOWN|       UNKNOWN|      D|\n",
            "+----------+------------+-------------------+------------+-------------------+-----------+----------+-----+--------------------+-----+--------------------+----------------+-----------+---------+-----------------+--------------------+-------------------+-----------------+--------+----------+-----------+----------+----------+--------------+--------------+--------+----------------+------------------+------------------+--------------------+--------------------+------------+-------------+--------------+-------+\n",
            "only showing top 20 rows\n",
            "\n"
          ]
        }
      ]
    },
    {
      "cell_type": "code",
      "source": [
        "from pyspark.sql.functions import col,isnan, when, count"
      ],
      "metadata": {
        "id": "J1nrS_OiOTqt"
      },
      "execution_count": 12,
      "outputs": []
    },
    {
      "cell_type": "code",
      "source": [
        "data.select([count(when(isnull(c),c)).alias(c) for c in data.columns]).show()"
      ],
      "metadata": {
        "colab": {
          "base_uri": "https://localhost:8080/"
        },
        "id": "9VPElfGBOf27",
        "outputId": "22afe309-32d4-451e-dc9a-494dc009bddf"
      },
      "execution_count": 13,
      "outputs": [
        {
          "output_type": "stream",
          "name": "stdout",
          "text": [
            "+----------+------------+------------+------------+------------+-----------+------+-----+---------+-----+-------+----------------+----------+-------+-----------------+-------------+----------+-----------------+--------+----------+-----------+----------+----------+--------------+---------+--------+----------------+--------+---------+-------+-----------+------------+-------------+--------+-------+\n",
            "|CMPLNT_NUM|CMPLNT_FR_DT|CMPLNT_FR_TM|CMPLNT_TO_DT|CMPLNT_TO_TM|ADDR_PCT_CD|RPT_DT|KY_CD|OFNS_DESC|PD_CD|PD_DESC|CRM_ATPT_CPTD_CD|LAW_CAT_CD|BORO_NM|LOC_OF_OCCUR_DESC|PREM_TYP_DESC|JURIS_DESC|JURISDICTION_CODE|PARKS_NM|HADEVELOPT|HOUSING_PSA|X_COORD_CD|Y_COORD_CD|SUSP_AGE_GROUP|SUSP_RACE|SUSP_SEX|TRANSIT_DISTRICT|Latitude|Longitude|Lat_Lon|PATROL_BORO|STATION_NAME|VIC_AGE_GROUP|VIC_RACE|VIC_SEX|\n",
            "+----------+------------+------------+------------+------------+-----------+------+-----+---------+-----+-------+----------------+----------+-------+-----------------+-------------+----------+-----------------+--------+----------+-----------+----------+----------+--------------+---------+--------+----------------+--------+---------+-------+-----------+------------+-------------+--------+-------+\n",
            "|         0|           0|           0|       10831|       10777|          8|     0|    0|        4|  134|    134|               0|         0|    139|            15038|          441|         1|              135|   88509|     84894|      82811|        19|        19|         21325|    21319|   21320|           86581|      19|       19|     19|        135|       86581|           23|       2|      2|\n",
            "+----------+------------+------------+------------+------------+-----------+------+-----+---------+-----+-------+----------------+----------+-------+-----------------+-------------+----------+-----------------+--------+----------+-----------+----------+----------+--------------+---------+--------+----------------+--------+---------+-------+-----------+------------+-------------+--------+-------+\n",
            "\n"
          ]
        }
      ]
    },
    {
      "cell_type": "code",
      "source": [
        "data_updated = data.drop('STATION_NAME','TRANSIT_DISTRICT','HADEVELOPT','PARKS_NM','HOUSING_PSA','JURISDICTION_CODE','PD_CD','PD_DESC','PATROL_BORO','CMPLNT_TO_DT','CMPLNT_TO_TM')"
      ],
      "metadata": {
        "id": "tmLIybNqOpiS"
      },
      "execution_count": 14,
      "outputs": []
    },
    {
      "cell_type": "code",
      "source": [
        "data_updated.columns"
      ],
      "metadata": {
        "colab": {
          "base_uri": "https://localhost:8080/"
        },
        "id": "Jvxj9n_FPCyP",
        "outputId": "f7fc0440-1f5d-406f-fcc5-5b2d43043cf0"
      },
      "execution_count": 15,
      "outputs": [
        {
          "output_type": "execute_result",
          "data": {
            "text/plain": [
              "['CMPLNT_NUM',\n",
              " 'CMPLNT_FR_DT',\n",
              " 'CMPLNT_FR_TM',\n",
              " 'ADDR_PCT_CD',\n",
              " 'RPT_DT',\n",
              " 'KY_CD',\n",
              " 'OFNS_DESC',\n",
              " 'CRM_ATPT_CPTD_CD',\n",
              " 'LAW_CAT_CD',\n",
              " 'BORO_NM',\n",
              " 'LOC_OF_OCCUR_DESC',\n",
              " 'PREM_TYP_DESC',\n",
              " 'JURIS_DESC',\n",
              " 'X_COORD_CD',\n",
              " 'Y_COORD_CD',\n",
              " 'SUSP_AGE_GROUP',\n",
              " 'SUSP_RACE',\n",
              " 'SUSP_SEX',\n",
              " 'Latitude',\n",
              " 'Longitude',\n",
              " 'Lat_Lon',\n",
              " 'VIC_AGE_GROUP',\n",
              " 'VIC_RACE',\n",
              " 'VIC_SEX']"
            ]
          },
          "metadata": {},
          "execution_count": 15
        }
      ]
    },
    {
      "cell_type": "code",
      "source": [
        "data_updated.show()"
      ],
      "metadata": {
        "colab": {
          "base_uri": "https://localhost:8080/"
        },
        "id": "1stDC1_cPG5A",
        "outputId": "fe4339d8-242d-4fa4-c534-1130d08d3a99"
      },
      "execution_count": 16,
      "outputs": [
        {
          "output_type": "stream",
          "name": "stdout",
          "text": [
            "+----------+------------+-------------------+-----------+----------+-----+--------------------+----------------+-----------+---------+-----------------+--------------------+-------------------+----------+----------+--------------+--------------+--------+------------------+------------------+--------------------+-------------+--------------+-------+\n",
            "|CMPLNT_NUM|CMPLNT_FR_DT|       CMPLNT_FR_TM|ADDR_PCT_CD|    RPT_DT|KY_CD|           OFNS_DESC|CRM_ATPT_CPTD_CD| LAW_CAT_CD|  BORO_NM|LOC_OF_OCCUR_DESC|       PREM_TYP_DESC|         JURIS_DESC|X_COORD_CD|Y_COORD_CD|SUSP_AGE_GROUP|     SUSP_RACE|SUSP_SEX|          Latitude|         Longitude|             Lat_Lon|VIC_AGE_GROUP|      VIC_RACE|VIC_SEX|\n",
            "+----------+------------+-------------------+-----------+----------+-----+--------------------+----------------+-----------+---------+-----------------+--------------------+-------------------+----------+----------+--------------+--------------+--------+------------------+------------------+--------------------+-------------+--------------+-------+\n",
            "| 394506329|  12/31/2019|2022-09-13 17:30:00|       32.0|12/31/2019|  118|   DANGEROUS WEAPONS|       COMPLETED|     FELONY|MANHATTAN|             null|              STREET|   N.Y. POLICE DEPT|  999937.0|  238365.0|          null|          null|    null| 40.82092679700002|-73.94332421899996|(40.8209267970000...|      UNKNOWN|       UNKNOWN|      E|\n",
            "| 968873685|  12/29/2019|2022-09-13 16:31:00|       47.0|12/29/2019|  113|             FORGERY|       COMPLETED|     FELONY|    BRONX|             null|              STREET|   N.Y. POLICE DEPT| 1022508.0|  261990.0|          null|          null|    null| 40.88570140600008|-73.86164032499995|(40.8857014060000...|      UNKNOWN|       UNKNOWN|      E|\n",
            "| 509837549|  12/15/2019|2022-09-13 18:45:00|      109.0|12/29/2019|  578|       HARRASSMENT 2|       COMPLETED|  VIOLATION|   QUEENS|         FRONT OF|              STREET|   N.Y. POLICE DEPT| 1034178.0|  209758.0|         25-44|       UNKNOWN|       M| 40.74228115600005|      -73.81982408|(40.7422811560000...|        25-44|WHITE HISPANIC|      F|\n",
            "| 352454313|  12/28/2019|2022-09-13 01:00:00|       47.0|12/28/2019|  126|MISCELLANEOUS PEN...|       COMPLETED|     FELONY|    BRONX|          REAR OF|              STREET|   N.Y. POLICE DEPT| 1026412.0|  258211.0|         18-24|         BLACK|       M| 40.87531145100007|-73.84754521099995|(40.8753114510000...|      UNKNOWN|       UNKNOWN|      E|\n",
            "| 248803469|  09/05/2008|2022-09-13 21:41:00|       null|09/05/2008|  101|MURDER & NON-NEGL...|       COMPLETED|     FELONY|     null|          OUTSIDE|                null|   N.Y. POLICE DEPT| 1001215.0|  193881.0|          null|          null|    null|      40.698827283|     -73.938819047|(40.698827283, -7...|        25-44|         BLACK|      M|\n",
            "| 293718737|  12/27/2019|2022-09-13 22:00:00|        9.0|12/27/2019|  107|            BURGLARY|       ATTEMPTED|     FELONY|MANHATTAN|         FRONT OF|RESIDENCE - APT. ...|   N.Y. POLICE DEPT|  989665.0|  201866.0|          null|          null|    null| 40.72075882100006|-73.98046642299995|(40.7207588210000...|      UNKNOWN|       UNKNOWN|      M|\n",
            "| 552685226|  12/27/2019|2022-09-13 20:10:00|       79.0|12/27/2019|  117|     DANGEROUS DRUGS|       COMPLETED|     FELONY| BROOKLYN|             null|              STREET|   N.Y. POLICE DEPT| 1001545.0|  192836.0|          null|          null|    null|40.695958362000056|-73.93763162199998|(40.6959583620000...|      UNKNOWN|       UNKNOWN|      E|\n",
            "| 134037758|  12/26/2019|2022-09-13 20:00:00|      101.0|12/27/2019|  341|       PETIT LARCENY|       COMPLETED|MISDEMEANOR|   QUEENS|         FRONT OF|              STREET|   N.Y. POLICE DEPT| 1054394.0|  162186.0|          null|          null|    null| 40.61157006600007|-73.74736517199995|(40.6115700660000...|        25-44|WHITE HISPANIC|      F|\n",
            "| 855385879|  12/26/2019|2022-09-13 19:57:00|       44.0|12/26/2019|  361|OFF. AGNST PUB OR...|       COMPLETED|MISDEMEANOR|    BRONX|             null|              STREET|   N.Y. POLICE DEPT| 1007027.0|  245405.0|         18-24|         BLACK|       F| 40.84023413800003|-73.91768411399994|(40.8402341380000...|        18-24|         BLACK|      F|\n",
            "| 241602326|  12/25/2019|2022-09-13 23:00:00|       20.0|12/26/2019|  341|       PETIT LARCENY|       COMPLETED|MISDEMEANOR|MANHATTAN|             null|              STREET|   N.Y. POLICE DEPT|  987147.0|  220853.0|          null|          null|    null| 40.77287456000005|-73.98954212299998|(40.7728745600000...|        45-64|         BLACK|      M|\n",
            "| 585574881|  12/24/2019|2022-09-13 16:00:00|       14.0|12/24/2019|  109|       GRAND LARCENY|       COMPLETED|     FELONY|MANHATTAN|           INSIDE|    DEPARTMENT STORE|   N.Y. POLICE DEPT|  987220.0|  212676.0|          null|          null|    null| 40.75043076800005|-73.98928217599996|(40.7504307680000...|      UNKNOWN|       UNKNOWN|      D|\n",
            "| 916172359|  12/21/2019|2022-09-13 20:00:00|       25.0|12/24/2019|  341|       PETIT LARCENY|       COMPLETED|MISDEMEANOR|MANHATTAN|             null|               OTHER|   N.Y. POLICE DEPT| 1001150.0|  231355.0|       UNKNOWN|       UNKNOWN|       U| 40.80168405900002|-73.93895929199994|(40.8016840590000...|        25-44|       UNKNOWN|      F|\n",
            "| 946914583|  12/22/2019|2022-09-13 04:15:00|      108.0|12/22/2019|  113|             FORGERY|       COMPLETED|     FELONY|   QUEENS|             null|              STREET|   N.Y. POLICE DEPT|  996424.0|  210017.0|          null|          null|    null|40.743124599000055|-73.95606807299998|(40.7431245990000...|      UNKNOWN|       UNKNOWN|      E|\n",
            "| 355952564|  12/21/2019|2022-09-13 02:35:00|       46.0|12/21/2019|  101|MURDER & NON-NEGL...|       COMPLETED|     FELONY|     null|           INSIDE|                null|   N.Y. POLICE DEPT| 1009507.0|  252093.0|         18-24|BLACK HISPANIC|       M| 40.85858397000004|-73.90869606999998|(40.8585839700000...|        18-24|WHITE HISPANIC|      M|\n",
            "| 249276017|  12/20/2019|2022-09-13 14:00:00|       42.0|12/21/2019|  106|      FELONY ASSAULT|       COMPLETED|     FELONY|    BRONX|             null|              STREET|   N.Y. POLICE DEPT| 1008690.0|  238862.0|       UNKNOWN|       UNKNOWN|       U| 40.82227104100008|-73.91169777999993|(40.8222710410000...|          <18|BLACK HISPANIC|      M|\n",
            "| 636997863|  12/20/2019|2022-09-13 22:18:00|       52.0|12/20/2019|  344|ASSAULT 3 & RELAT...|       COMPLETED|MISDEMEANOR|    BRONX|           INSIDE|RESIDENCE - APT. ...|   N.Y. POLICE DEPT| 1014563.0|  253789.0|         25-44|         BLACK|       M| 40.86322306500005|-73.89041071099996|(40.8632230650000...|        18-24|         BLACK|      F|\n",
            "| 183266811|  12/20/2019|2022-09-13 01:35:00|       66.0|12/20/2019|  107|            BURGLARY|       COMPLETED|     FELONY| BROOKLYN|          REAR OF|     RESIDENCE-HOUSE|   N.Y. POLICE DEPT|  989260.0|  169727.0|          null|          null|    null| 40.63254475200006|-73.98195137599998|(40.6325447520000...|          65+|         WHITE|      F|\n",
            "| 699043216|  12/20/2019|2022-09-13 00:07:00|       50.0|12/20/2019|  341|       PETIT LARCENY|       COMPLETED|MISDEMEANOR|    BRONX|             null|               OTHER|        METRO NORTH| 1008839.0|  257949.0|          null|          null|    null| 40.87465879000007|-73.91108943699999|(40.8746587900000...|        25-44|         WHITE|      F|\n",
            "| 431547413|  12/10/2019|2022-09-13 20:06:00|        7.0|12/20/2019|  114|               ARSON|       COMPLETED|     FELONY|MANHATTAN|           INSIDE|RESIDENCE - PUBLI...|N.Y. HOUSING POLICE|  987063.0|  198657.0|          null|          null|    null| 40.71195209300004|-73.98985467599994|(40.7119520930000...|      UNKNOWN|       UNKNOWN|      E|\n",
            "| 800366831|  12/19/2019|2022-09-13 17:50:00|       43.0|12/19/2019|  341|       PETIT LARCENY|       COMPLETED|MISDEMEANOR|    BRONX|           INSIDE|    DEPARTMENT STORE|   N.Y. POLICE DEPT| 1023380.0|  239329.0|         45-64|WHITE HISPANIC|       M|40.823499964000064|-73.85861898699994|(40.8234999640000...|      UNKNOWN|       UNKNOWN|      D|\n",
            "+----------+------------+-------------------+-----------+----------+-----+--------------------+----------------+-----------+---------+-----------------+--------------------+-------------------+----------+----------+--------------+--------------+--------+------------------+------------------+--------------------+-------------+--------------+-------+\n",
            "only showing top 20 rows\n",
            "\n"
          ]
        }
      ]
    },
    {
      "cell_type": "code",
      "source": [
        "data_updated_1 = data_updated.na.fill(value = 'UNKNOWN',subset = ['LOC_OF_OCCUR_DESC','VIC_RACE','VIC_AGE_GROUP','VIC_SEX','SUSP_RACE','SUSP_AGE_GROUP','SUSP_SEX','BORO_NM'])"
      ],
      "metadata": {
        "id": "58OE6LJ5POj8"
      },
      "execution_count": 24,
      "outputs": []
    },
    {
      "cell_type": "code",
      "source": [
        "data_updated_1.show()"
      ],
      "metadata": {
        "colab": {
          "base_uri": "https://localhost:8080/"
        },
        "id": "JqjN7nZLiJP2",
        "outputId": "038573a7-2762-4e39-f9d7-c7c5ff80415e"
      },
      "execution_count": 25,
      "outputs": [
        {
          "output_type": "stream",
          "name": "stdout",
          "text": [
            "+----------+------------+-------------------+-----------+----------+-----+--------------------+----------------+-----------+---------+-----------------+--------------------+-------------------+----------+----------+--------------+--------------+--------+------------------+------------------+--------------------+-------------+--------------+-------+\n",
            "|CMPLNT_NUM|CMPLNT_FR_DT|       CMPLNT_FR_TM|ADDR_PCT_CD|    RPT_DT|KY_CD|           OFNS_DESC|CRM_ATPT_CPTD_CD| LAW_CAT_CD|  BORO_NM|LOC_OF_OCCUR_DESC|       PREM_TYP_DESC|         JURIS_DESC|X_COORD_CD|Y_COORD_CD|SUSP_AGE_GROUP|     SUSP_RACE|SUSP_SEX|          Latitude|         Longitude|             Lat_Lon|VIC_AGE_GROUP|      VIC_RACE|VIC_SEX|\n",
            "+----------+------------+-------------------+-----------+----------+-----+--------------------+----------------+-----------+---------+-----------------+--------------------+-------------------+----------+----------+--------------+--------------+--------+------------------+------------------+--------------------+-------------+--------------+-------+\n",
            "| 394506329|  12/31/2019|2022-09-13 17:30:00|       32.0|12/31/2019|  118|   DANGEROUS WEAPONS|       COMPLETED|     FELONY|MANHATTAN|          UNKNOWN|              STREET|   N.Y. POLICE DEPT|  999937.0|  238365.0|       UNKNOWN|       UNKNOWN| UNKNOWN| 40.82092679700002|-73.94332421899996|(40.8209267970000...|      UNKNOWN|       UNKNOWN|      E|\n",
            "| 968873685|  12/29/2019|2022-09-13 16:31:00|       47.0|12/29/2019|  113|             FORGERY|       COMPLETED|     FELONY|    BRONX|          UNKNOWN|              STREET|   N.Y. POLICE DEPT| 1022508.0|  261990.0|       UNKNOWN|       UNKNOWN| UNKNOWN| 40.88570140600008|-73.86164032499995|(40.8857014060000...|      UNKNOWN|       UNKNOWN|      E|\n",
            "| 509837549|  12/15/2019|2022-09-13 18:45:00|      109.0|12/29/2019|  578|       HARRASSMENT 2|       COMPLETED|  VIOLATION|   QUEENS|         FRONT OF|              STREET|   N.Y. POLICE DEPT| 1034178.0|  209758.0|         25-44|       UNKNOWN|       M| 40.74228115600005|      -73.81982408|(40.7422811560000...|        25-44|WHITE HISPANIC|      F|\n",
            "| 352454313|  12/28/2019|2022-09-13 01:00:00|       47.0|12/28/2019|  126|MISCELLANEOUS PEN...|       COMPLETED|     FELONY|    BRONX|          REAR OF|              STREET|   N.Y. POLICE DEPT| 1026412.0|  258211.0|         18-24|         BLACK|       M| 40.87531145100007|-73.84754521099995|(40.8753114510000...|      UNKNOWN|       UNKNOWN|      E|\n",
            "| 248803469|  09/05/2008|2022-09-13 21:41:00|       null|09/05/2008|  101|MURDER & NON-NEGL...|       COMPLETED|     FELONY|  UNKNOWN|          OUTSIDE|                null|   N.Y. POLICE DEPT| 1001215.0|  193881.0|       UNKNOWN|       UNKNOWN| UNKNOWN|      40.698827283|     -73.938819047|(40.698827283, -7...|        25-44|         BLACK|      M|\n",
            "| 293718737|  12/27/2019|2022-09-13 22:00:00|        9.0|12/27/2019|  107|            BURGLARY|       ATTEMPTED|     FELONY|MANHATTAN|         FRONT OF|RESIDENCE - APT. ...|   N.Y. POLICE DEPT|  989665.0|  201866.0|       UNKNOWN|       UNKNOWN| UNKNOWN| 40.72075882100006|-73.98046642299995|(40.7207588210000...|      UNKNOWN|       UNKNOWN|      M|\n",
            "| 552685226|  12/27/2019|2022-09-13 20:10:00|       79.0|12/27/2019|  117|     DANGEROUS DRUGS|       COMPLETED|     FELONY| BROOKLYN|          UNKNOWN|              STREET|   N.Y. POLICE DEPT| 1001545.0|  192836.0|       UNKNOWN|       UNKNOWN| UNKNOWN|40.695958362000056|-73.93763162199998|(40.6959583620000...|      UNKNOWN|       UNKNOWN|      E|\n",
            "| 134037758|  12/26/2019|2022-09-13 20:00:00|      101.0|12/27/2019|  341|       PETIT LARCENY|       COMPLETED|MISDEMEANOR|   QUEENS|         FRONT OF|              STREET|   N.Y. POLICE DEPT| 1054394.0|  162186.0|       UNKNOWN|       UNKNOWN| UNKNOWN| 40.61157006600007|-73.74736517199995|(40.6115700660000...|        25-44|WHITE HISPANIC|      F|\n",
            "| 855385879|  12/26/2019|2022-09-13 19:57:00|       44.0|12/26/2019|  361|OFF. AGNST PUB OR...|       COMPLETED|MISDEMEANOR|    BRONX|          UNKNOWN|              STREET|   N.Y. POLICE DEPT| 1007027.0|  245405.0|         18-24|         BLACK|       F| 40.84023413800003|-73.91768411399994|(40.8402341380000...|        18-24|         BLACK|      F|\n",
            "| 241602326|  12/25/2019|2022-09-13 23:00:00|       20.0|12/26/2019|  341|       PETIT LARCENY|       COMPLETED|MISDEMEANOR|MANHATTAN|          UNKNOWN|              STREET|   N.Y. POLICE DEPT|  987147.0|  220853.0|       UNKNOWN|       UNKNOWN| UNKNOWN| 40.77287456000005|-73.98954212299998|(40.7728745600000...|        45-64|         BLACK|      M|\n",
            "| 585574881|  12/24/2019|2022-09-13 16:00:00|       14.0|12/24/2019|  109|       GRAND LARCENY|       COMPLETED|     FELONY|MANHATTAN|           INSIDE|    DEPARTMENT STORE|   N.Y. POLICE DEPT|  987220.0|  212676.0|       UNKNOWN|       UNKNOWN| UNKNOWN| 40.75043076800005|-73.98928217599996|(40.7504307680000...|      UNKNOWN|       UNKNOWN|      D|\n",
            "| 916172359|  12/21/2019|2022-09-13 20:00:00|       25.0|12/24/2019|  341|       PETIT LARCENY|       COMPLETED|MISDEMEANOR|MANHATTAN|          UNKNOWN|               OTHER|   N.Y. POLICE DEPT| 1001150.0|  231355.0|       UNKNOWN|       UNKNOWN|       U| 40.80168405900002|-73.93895929199994|(40.8016840590000...|        25-44|       UNKNOWN|      F|\n",
            "| 946914583|  12/22/2019|2022-09-13 04:15:00|      108.0|12/22/2019|  113|             FORGERY|       COMPLETED|     FELONY|   QUEENS|          UNKNOWN|              STREET|   N.Y. POLICE DEPT|  996424.0|  210017.0|       UNKNOWN|       UNKNOWN| UNKNOWN|40.743124599000055|-73.95606807299998|(40.7431245990000...|      UNKNOWN|       UNKNOWN|      E|\n",
            "| 355952564|  12/21/2019|2022-09-13 02:35:00|       46.0|12/21/2019|  101|MURDER & NON-NEGL...|       COMPLETED|     FELONY|  UNKNOWN|           INSIDE|                null|   N.Y. POLICE DEPT| 1009507.0|  252093.0|         18-24|BLACK HISPANIC|       M| 40.85858397000004|-73.90869606999998|(40.8585839700000...|        18-24|WHITE HISPANIC|      M|\n",
            "| 249276017|  12/20/2019|2022-09-13 14:00:00|       42.0|12/21/2019|  106|      FELONY ASSAULT|       COMPLETED|     FELONY|    BRONX|          UNKNOWN|              STREET|   N.Y. POLICE DEPT| 1008690.0|  238862.0|       UNKNOWN|       UNKNOWN|       U| 40.82227104100008|-73.91169777999993|(40.8222710410000...|          <18|BLACK HISPANIC|      M|\n",
            "| 636997863|  12/20/2019|2022-09-13 22:18:00|       52.0|12/20/2019|  344|ASSAULT 3 & RELAT...|       COMPLETED|MISDEMEANOR|    BRONX|           INSIDE|RESIDENCE - APT. ...|   N.Y. POLICE DEPT| 1014563.0|  253789.0|         25-44|         BLACK|       M| 40.86322306500005|-73.89041071099996|(40.8632230650000...|        18-24|         BLACK|      F|\n",
            "| 183266811|  12/20/2019|2022-09-13 01:35:00|       66.0|12/20/2019|  107|            BURGLARY|       COMPLETED|     FELONY| BROOKLYN|          REAR OF|     RESIDENCE-HOUSE|   N.Y. POLICE DEPT|  989260.0|  169727.0|       UNKNOWN|       UNKNOWN| UNKNOWN| 40.63254475200006|-73.98195137599998|(40.6325447520000...|          65+|         WHITE|      F|\n",
            "| 699043216|  12/20/2019|2022-09-13 00:07:00|       50.0|12/20/2019|  341|       PETIT LARCENY|       COMPLETED|MISDEMEANOR|    BRONX|          UNKNOWN|               OTHER|        METRO NORTH| 1008839.0|  257949.0|       UNKNOWN|       UNKNOWN| UNKNOWN| 40.87465879000007|-73.91108943699999|(40.8746587900000...|        25-44|         WHITE|      F|\n",
            "| 431547413|  12/10/2019|2022-09-13 20:06:00|        7.0|12/20/2019|  114|               ARSON|       COMPLETED|     FELONY|MANHATTAN|           INSIDE|RESIDENCE - PUBLI...|N.Y. HOUSING POLICE|  987063.0|  198657.0|       UNKNOWN|       UNKNOWN| UNKNOWN| 40.71195209300004|-73.98985467599994|(40.7119520930000...|      UNKNOWN|       UNKNOWN|      E|\n",
            "| 800366831|  12/19/2019|2022-09-13 17:50:00|       43.0|12/19/2019|  341|       PETIT LARCENY|       COMPLETED|MISDEMEANOR|    BRONX|           INSIDE|    DEPARTMENT STORE|   N.Y. POLICE DEPT| 1023380.0|  239329.0|         45-64|WHITE HISPANIC|       M|40.823499964000064|-73.85861898699994|(40.8234999640000...|      UNKNOWN|       UNKNOWN|      D|\n",
            "+----------+------------+-------------------+-----------+----------+-----+--------------------+----------------+-----------+---------+-----------------+--------------------+-------------------+----------+----------+--------------+--------------+--------+------------------+------------------+--------------------+-------------+--------------+-------+\n",
            "only showing top 20 rows\n",
            "\n"
          ]
        }
      ]
    },
    {
      "cell_type": "code",
      "source": [
        "data_updated_2 = data_updated_1.na.fill(value = 'OTHER',subset = ['PREM_TYP_DESC'])"
      ],
      "metadata": {
        "id": "2QDD64-ZiTT6"
      },
      "execution_count": 26,
      "outputs": []
    },
    {
      "cell_type": "code",
      "source": [
        "data_updated_2.show()"
      ],
      "metadata": {
        "id": "Poo_6ci9j3Zq",
        "outputId": "c8d19ea0-879d-4779-bafd-009b40ef4e58",
        "colab": {
          "base_uri": "https://localhost:8080/"
        }
      },
      "execution_count": 27,
      "outputs": [
        {
          "output_type": "stream",
          "name": "stdout",
          "text": [
            "+----------+------------+-------------------+-----------+----------+-----+--------------------+----------------+-----------+---------+-----------------+--------------------+-------------------+----------+----------+--------------+--------------+--------+------------------+------------------+--------------------+-------------+--------------+-------+\n",
            "|CMPLNT_NUM|CMPLNT_FR_DT|       CMPLNT_FR_TM|ADDR_PCT_CD|    RPT_DT|KY_CD|           OFNS_DESC|CRM_ATPT_CPTD_CD| LAW_CAT_CD|  BORO_NM|LOC_OF_OCCUR_DESC|       PREM_TYP_DESC|         JURIS_DESC|X_COORD_CD|Y_COORD_CD|SUSP_AGE_GROUP|     SUSP_RACE|SUSP_SEX|          Latitude|         Longitude|             Lat_Lon|VIC_AGE_GROUP|      VIC_RACE|VIC_SEX|\n",
            "+----------+------------+-------------------+-----------+----------+-----+--------------------+----------------+-----------+---------+-----------------+--------------------+-------------------+----------+----------+--------------+--------------+--------+------------------+------------------+--------------------+-------------+--------------+-------+\n",
            "| 394506329|  12/31/2019|2022-09-13 17:30:00|       32.0|12/31/2019|  118|   DANGEROUS WEAPONS|       COMPLETED|     FELONY|MANHATTAN|          UNKNOWN|              STREET|   N.Y. POLICE DEPT|  999937.0|  238365.0|       UNKNOWN|       UNKNOWN| UNKNOWN| 40.82092679700002|-73.94332421899996|(40.8209267970000...|      UNKNOWN|       UNKNOWN|      E|\n",
            "| 968873685|  12/29/2019|2022-09-13 16:31:00|       47.0|12/29/2019|  113|             FORGERY|       COMPLETED|     FELONY|    BRONX|          UNKNOWN|              STREET|   N.Y. POLICE DEPT| 1022508.0|  261990.0|       UNKNOWN|       UNKNOWN| UNKNOWN| 40.88570140600008|-73.86164032499995|(40.8857014060000...|      UNKNOWN|       UNKNOWN|      E|\n",
            "| 509837549|  12/15/2019|2022-09-13 18:45:00|      109.0|12/29/2019|  578|       HARRASSMENT 2|       COMPLETED|  VIOLATION|   QUEENS|         FRONT OF|              STREET|   N.Y. POLICE DEPT| 1034178.0|  209758.0|         25-44|       UNKNOWN|       M| 40.74228115600005|      -73.81982408|(40.7422811560000...|        25-44|WHITE HISPANIC|      F|\n",
            "| 352454313|  12/28/2019|2022-09-13 01:00:00|       47.0|12/28/2019|  126|MISCELLANEOUS PEN...|       COMPLETED|     FELONY|    BRONX|          REAR OF|              STREET|   N.Y. POLICE DEPT| 1026412.0|  258211.0|         18-24|         BLACK|       M| 40.87531145100007|-73.84754521099995|(40.8753114510000...|      UNKNOWN|       UNKNOWN|      E|\n",
            "| 248803469|  09/05/2008|2022-09-13 21:41:00|       null|09/05/2008|  101|MURDER & NON-NEGL...|       COMPLETED|     FELONY|  UNKNOWN|          OUTSIDE|               OTHER|   N.Y. POLICE DEPT| 1001215.0|  193881.0|       UNKNOWN|       UNKNOWN| UNKNOWN|      40.698827283|     -73.938819047|(40.698827283, -7...|        25-44|         BLACK|      M|\n",
            "| 293718737|  12/27/2019|2022-09-13 22:00:00|        9.0|12/27/2019|  107|            BURGLARY|       ATTEMPTED|     FELONY|MANHATTAN|         FRONT OF|RESIDENCE - APT. ...|   N.Y. POLICE DEPT|  989665.0|  201866.0|       UNKNOWN|       UNKNOWN| UNKNOWN| 40.72075882100006|-73.98046642299995|(40.7207588210000...|      UNKNOWN|       UNKNOWN|      M|\n",
            "| 552685226|  12/27/2019|2022-09-13 20:10:00|       79.0|12/27/2019|  117|     DANGEROUS DRUGS|       COMPLETED|     FELONY| BROOKLYN|          UNKNOWN|              STREET|   N.Y. POLICE DEPT| 1001545.0|  192836.0|       UNKNOWN|       UNKNOWN| UNKNOWN|40.695958362000056|-73.93763162199998|(40.6959583620000...|      UNKNOWN|       UNKNOWN|      E|\n",
            "| 134037758|  12/26/2019|2022-09-13 20:00:00|      101.0|12/27/2019|  341|       PETIT LARCENY|       COMPLETED|MISDEMEANOR|   QUEENS|         FRONT OF|              STREET|   N.Y. POLICE DEPT| 1054394.0|  162186.0|       UNKNOWN|       UNKNOWN| UNKNOWN| 40.61157006600007|-73.74736517199995|(40.6115700660000...|        25-44|WHITE HISPANIC|      F|\n",
            "| 855385879|  12/26/2019|2022-09-13 19:57:00|       44.0|12/26/2019|  361|OFF. AGNST PUB OR...|       COMPLETED|MISDEMEANOR|    BRONX|          UNKNOWN|              STREET|   N.Y. POLICE DEPT| 1007027.0|  245405.0|         18-24|         BLACK|       F| 40.84023413800003|-73.91768411399994|(40.8402341380000...|        18-24|         BLACK|      F|\n",
            "| 241602326|  12/25/2019|2022-09-13 23:00:00|       20.0|12/26/2019|  341|       PETIT LARCENY|       COMPLETED|MISDEMEANOR|MANHATTAN|          UNKNOWN|              STREET|   N.Y. POLICE DEPT|  987147.0|  220853.0|       UNKNOWN|       UNKNOWN| UNKNOWN| 40.77287456000005|-73.98954212299998|(40.7728745600000...|        45-64|         BLACK|      M|\n",
            "| 585574881|  12/24/2019|2022-09-13 16:00:00|       14.0|12/24/2019|  109|       GRAND LARCENY|       COMPLETED|     FELONY|MANHATTAN|           INSIDE|    DEPARTMENT STORE|   N.Y. POLICE DEPT|  987220.0|  212676.0|       UNKNOWN|       UNKNOWN| UNKNOWN| 40.75043076800005|-73.98928217599996|(40.7504307680000...|      UNKNOWN|       UNKNOWN|      D|\n",
            "| 916172359|  12/21/2019|2022-09-13 20:00:00|       25.0|12/24/2019|  341|       PETIT LARCENY|       COMPLETED|MISDEMEANOR|MANHATTAN|          UNKNOWN|               OTHER|   N.Y. POLICE DEPT| 1001150.0|  231355.0|       UNKNOWN|       UNKNOWN|       U| 40.80168405900002|-73.93895929199994|(40.8016840590000...|        25-44|       UNKNOWN|      F|\n",
            "| 946914583|  12/22/2019|2022-09-13 04:15:00|      108.0|12/22/2019|  113|             FORGERY|       COMPLETED|     FELONY|   QUEENS|          UNKNOWN|              STREET|   N.Y. POLICE DEPT|  996424.0|  210017.0|       UNKNOWN|       UNKNOWN| UNKNOWN|40.743124599000055|-73.95606807299998|(40.7431245990000...|      UNKNOWN|       UNKNOWN|      E|\n",
            "| 355952564|  12/21/2019|2022-09-13 02:35:00|       46.0|12/21/2019|  101|MURDER & NON-NEGL...|       COMPLETED|     FELONY|  UNKNOWN|           INSIDE|               OTHER|   N.Y. POLICE DEPT| 1009507.0|  252093.0|         18-24|BLACK HISPANIC|       M| 40.85858397000004|-73.90869606999998|(40.8585839700000...|        18-24|WHITE HISPANIC|      M|\n",
            "| 249276017|  12/20/2019|2022-09-13 14:00:00|       42.0|12/21/2019|  106|      FELONY ASSAULT|       COMPLETED|     FELONY|    BRONX|          UNKNOWN|              STREET|   N.Y. POLICE DEPT| 1008690.0|  238862.0|       UNKNOWN|       UNKNOWN|       U| 40.82227104100008|-73.91169777999993|(40.8222710410000...|          <18|BLACK HISPANIC|      M|\n",
            "| 636997863|  12/20/2019|2022-09-13 22:18:00|       52.0|12/20/2019|  344|ASSAULT 3 & RELAT...|       COMPLETED|MISDEMEANOR|    BRONX|           INSIDE|RESIDENCE - APT. ...|   N.Y. POLICE DEPT| 1014563.0|  253789.0|         25-44|         BLACK|       M| 40.86322306500005|-73.89041071099996|(40.8632230650000...|        18-24|         BLACK|      F|\n",
            "| 183266811|  12/20/2019|2022-09-13 01:35:00|       66.0|12/20/2019|  107|            BURGLARY|       COMPLETED|     FELONY| BROOKLYN|          REAR OF|     RESIDENCE-HOUSE|   N.Y. POLICE DEPT|  989260.0|  169727.0|       UNKNOWN|       UNKNOWN| UNKNOWN| 40.63254475200006|-73.98195137599998|(40.6325447520000...|          65+|         WHITE|      F|\n",
            "| 699043216|  12/20/2019|2022-09-13 00:07:00|       50.0|12/20/2019|  341|       PETIT LARCENY|       COMPLETED|MISDEMEANOR|    BRONX|          UNKNOWN|               OTHER|        METRO NORTH| 1008839.0|  257949.0|       UNKNOWN|       UNKNOWN| UNKNOWN| 40.87465879000007|-73.91108943699999|(40.8746587900000...|        25-44|         WHITE|      F|\n",
            "| 431547413|  12/10/2019|2022-09-13 20:06:00|        7.0|12/20/2019|  114|               ARSON|       COMPLETED|     FELONY|MANHATTAN|           INSIDE|RESIDENCE - PUBLI...|N.Y. HOUSING POLICE|  987063.0|  198657.0|       UNKNOWN|       UNKNOWN| UNKNOWN| 40.71195209300004|-73.98985467599994|(40.7119520930000...|      UNKNOWN|       UNKNOWN|      E|\n",
            "| 800366831|  12/19/2019|2022-09-13 17:50:00|       43.0|12/19/2019|  341|       PETIT LARCENY|       COMPLETED|MISDEMEANOR|    BRONX|           INSIDE|    DEPARTMENT STORE|   N.Y. POLICE DEPT| 1023380.0|  239329.0|         45-64|WHITE HISPANIC|       M|40.823499964000064|-73.85861898699994|(40.8234999640000...|      UNKNOWN|       UNKNOWN|      D|\n",
            "+----------+------------+-------------------+-----------+----------+-----+--------------------+----------------+-----------+---------+-----------------+--------------------+-------------------+----------+----------+--------------+--------------+--------+------------------+------------------+--------------------+-------------+--------------+-------+\n",
            "only showing top 20 rows\n",
            "\n"
          ]
        }
      ]
    },
    {
      "cell_type": "code",
      "source": [
        "data_updated_2.select([count(when(isnull(c),c)).alias(c) for c in data_updated_2.columns]).show()"
      ],
      "metadata": {
        "id": "Vffrw36dj-J7",
        "outputId": "0b75181b-29a7-4f67-f516-b4aaced817a4",
        "colab": {
          "base_uri": "https://localhost:8080/"
        }
      },
      "execution_count": 29,
      "outputs": [
        {
          "output_type": "stream",
          "name": "stdout",
          "text": [
            "+----------+------------+------------+-----------+------+-----+---------+----------------+----------+-------+-----------------+-------------+----------+----------+----------+--------------+---------+--------+--------+---------+-------+-------------+--------+-------+\n",
            "|CMPLNT_NUM|CMPLNT_FR_DT|CMPLNT_FR_TM|ADDR_PCT_CD|RPT_DT|KY_CD|OFNS_DESC|CRM_ATPT_CPTD_CD|LAW_CAT_CD|BORO_NM|LOC_OF_OCCUR_DESC|PREM_TYP_DESC|JURIS_DESC|X_COORD_CD|Y_COORD_CD|SUSP_AGE_GROUP|SUSP_RACE|SUSP_SEX|Latitude|Longitude|Lat_Lon|VIC_AGE_GROUP|VIC_RACE|VIC_SEX|\n",
            "+----------+------------+------------+-----------+------+-----+---------+----------------+----------+-------+-----------------+-------------+----------+----------+----------+--------------+---------+--------+--------+---------+-------+-------------+--------+-------+\n",
            "|         0|           0|           0|          8|     0|    0|        4|               0|         0|      0|                0|            0|         1|        19|        19|             0|        0|       0|      19|       19|     19|            0|       0|      0|\n",
            "+----------+------------+------------+-----------+------+-----+---------+----------------+----------+-------+-----------------+-------------+----------+----------+----------+--------------+---------+--------+--------+---------+-------+-------------+--------+-------+\n",
            "\n"
          ]
        }
      ]
    },
    {
      "cell_type": "code",
      "source": [
        "data_updated_3 = data_updated_2.na.fill(value = 'UNKNOWN',subset = ['JURIS_DESC','OFNS_DESC'])"
      ],
      "metadata": {
        "id": "WZSjZcGFkClZ"
      },
      "execution_count": 32,
      "outputs": []
    },
    {
      "cell_type": "code",
      "source": [
        "data_updated_3_mean = data_updated_3.fillna(value=0,subset=['Latitude']).select(mean(col('Latitude')).alias('avg')).collect()"
      ],
      "metadata": {
        "id": "1l6OIOHNo69I"
      },
      "execution_count": 33,
      "outputs": []
    },
    {
      "cell_type": "code",
      "source": [
        "avg = data_updated_3_mean[0]['avg']"
      ],
      "metadata": {
        "id": "QsphyWEHo-CQ"
      },
      "execution_count": 34,
      "outputs": []
    },
    {
      "cell_type": "code",
      "source": [
        "data_updated_4 = data_updated_3.fillna(value=avg,subset=['Latitude'])"
      ],
      "metadata": {
        "id": "UjY2VITXsEpf"
      },
      "execution_count": 35,
      "outputs": []
    },
    {
      "cell_type": "code",
      "source": [
        "data_updated_4.show()\n"
      ],
      "metadata": {
        "id": "SA0wfxvBsVEm",
        "outputId": "ffbc8b9a-eb69-4bc6-c304-0fb32f8f7235",
        "colab": {
          "base_uri": "https://localhost:8080/"
        }
      },
      "execution_count": 36,
      "outputs": [
        {
          "output_type": "stream",
          "name": "stdout",
          "text": [
            "+----------+------------+-------------------+-----------+----------+-----+--------------------+----------------+-----------+---------+-----------------+--------------------+-------------------+----------+----------+--------------+--------------+--------+------------------+------------------+--------------------+-------------+--------------+-------+\n",
            "|CMPLNT_NUM|CMPLNT_FR_DT|       CMPLNT_FR_TM|ADDR_PCT_CD|    RPT_DT|KY_CD|           OFNS_DESC|CRM_ATPT_CPTD_CD| LAW_CAT_CD|  BORO_NM|LOC_OF_OCCUR_DESC|       PREM_TYP_DESC|         JURIS_DESC|X_COORD_CD|Y_COORD_CD|SUSP_AGE_GROUP|     SUSP_RACE|SUSP_SEX|          Latitude|         Longitude|             Lat_Lon|VIC_AGE_GROUP|      VIC_RACE|VIC_SEX|\n",
            "+----------+------------+-------------------+-----------+----------+-----+--------------------+----------------+-----------+---------+-----------------+--------------------+-------------------+----------+----------+--------------+--------------+--------+------------------+------------------+--------------------+-------------+--------------+-------+\n",
            "| 394506329|  12/31/2019|2022-09-13 17:30:00|       32.0|12/31/2019|  118|   DANGEROUS WEAPONS|       COMPLETED|     FELONY|MANHATTAN|          UNKNOWN|              STREET|   N.Y. POLICE DEPT|  999937.0|  238365.0|       UNKNOWN|       UNKNOWN| UNKNOWN| 40.82092679700002|-73.94332421899996|(40.8209267970000...|      UNKNOWN|       UNKNOWN|      E|\n",
            "| 968873685|  12/29/2019|2022-09-13 16:31:00|       47.0|12/29/2019|  113|             FORGERY|       COMPLETED|     FELONY|    BRONX|          UNKNOWN|              STREET|   N.Y. POLICE DEPT| 1022508.0|  261990.0|       UNKNOWN|       UNKNOWN| UNKNOWN| 40.88570140600008|-73.86164032499995|(40.8857014060000...|      UNKNOWN|       UNKNOWN|      E|\n",
            "| 509837549|  12/15/2019|2022-09-13 18:45:00|      109.0|12/29/2019|  578|       HARRASSMENT 2|       COMPLETED|  VIOLATION|   QUEENS|         FRONT OF|              STREET|   N.Y. POLICE DEPT| 1034178.0|  209758.0|         25-44|       UNKNOWN|       M| 40.74228115600005|      -73.81982408|(40.7422811560000...|        25-44|WHITE HISPANIC|      F|\n",
            "| 352454313|  12/28/2019|2022-09-13 01:00:00|       47.0|12/28/2019|  126|MISCELLANEOUS PEN...|       COMPLETED|     FELONY|    BRONX|          REAR OF|              STREET|   N.Y. POLICE DEPT| 1026412.0|  258211.0|         18-24|         BLACK|       M| 40.87531145100007|-73.84754521099995|(40.8753114510000...|      UNKNOWN|       UNKNOWN|      E|\n",
            "| 248803469|  09/05/2008|2022-09-13 21:41:00|       null|09/05/2008|  101|MURDER & NON-NEGL...|       COMPLETED|     FELONY|  UNKNOWN|          OUTSIDE|               OTHER|   N.Y. POLICE DEPT| 1001215.0|  193881.0|       UNKNOWN|       UNKNOWN| UNKNOWN|      40.698827283|     -73.938819047|(40.698827283, -7...|        25-44|         BLACK|      M|\n",
            "| 293718737|  12/27/2019|2022-09-13 22:00:00|        9.0|12/27/2019|  107|            BURGLARY|       ATTEMPTED|     FELONY|MANHATTAN|         FRONT OF|RESIDENCE - APT. ...|   N.Y. POLICE DEPT|  989665.0|  201866.0|       UNKNOWN|       UNKNOWN| UNKNOWN| 40.72075882100006|-73.98046642299995|(40.7207588210000...|      UNKNOWN|       UNKNOWN|      M|\n",
            "| 552685226|  12/27/2019|2022-09-13 20:10:00|       79.0|12/27/2019|  117|     DANGEROUS DRUGS|       COMPLETED|     FELONY| BROOKLYN|          UNKNOWN|              STREET|   N.Y. POLICE DEPT| 1001545.0|  192836.0|       UNKNOWN|       UNKNOWN| UNKNOWN|40.695958362000056|-73.93763162199998|(40.6959583620000...|      UNKNOWN|       UNKNOWN|      E|\n",
            "| 134037758|  12/26/2019|2022-09-13 20:00:00|      101.0|12/27/2019|  341|       PETIT LARCENY|       COMPLETED|MISDEMEANOR|   QUEENS|         FRONT OF|              STREET|   N.Y. POLICE DEPT| 1054394.0|  162186.0|       UNKNOWN|       UNKNOWN| UNKNOWN| 40.61157006600007|-73.74736517199995|(40.6115700660000...|        25-44|WHITE HISPANIC|      F|\n",
            "| 855385879|  12/26/2019|2022-09-13 19:57:00|       44.0|12/26/2019|  361|OFF. AGNST PUB OR...|       COMPLETED|MISDEMEANOR|    BRONX|          UNKNOWN|              STREET|   N.Y. POLICE DEPT| 1007027.0|  245405.0|         18-24|         BLACK|       F| 40.84023413800003|-73.91768411399994|(40.8402341380000...|        18-24|         BLACK|      F|\n",
            "| 241602326|  12/25/2019|2022-09-13 23:00:00|       20.0|12/26/2019|  341|       PETIT LARCENY|       COMPLETED|MISDEMEANOR|MANHATTAN|          UNKNOWN|              STREET|   N.Y. POLICE DEPT|  987147.0|  220853.0|       UNKNOWN|       UNKNOWN| UNKNOWN| 40.77287456000005|-73.98954212299998|(40.7728745600000...|        45-64|         BLACK|      M|\n",
            "| 585574881|  12/24/2019|2022-09-13 16:00:00|       14.0|12/24/2019|  109|       GRAND LARCENY|       COMPLETED|     FELONY|MANHATTAN|           INSIDE|    DEPARTMENT STORE|   N.Y. POLICE DEPT|  987220.0|  212676.0|       UNKNOWN|       UNKNOWN| UNKNOWN| 40.75043076800005|-73.98928217599996|(40.7504307680000...|      UNKNOWN|       UNKNOWN|      D|\n",
            "| 916172359|  12/21/2019|2022-09-13 20:00:00|       25.0|12/24/2019|  341|       PETIT LARCENY|       COMPLETED|MISDEMEANOR|MANHATTAN|          UNKNOWN|               OTHER|   N.Y. POLICE DEPT| 1001150.0|  231355.0|       UNKNOWN|       UNKNOWN|       U| 40.80168405900002|-73.93895929199994|(40.8016840590000...|        25-44|       UNKNOWN|      F|\n",
            "| 946914583|  12/22/2019|2022-09-13 04:15:00|      108.0|12/22/2019|  113|             FORGERY|       COMPLETED|     FELONY|   QUEENS|          UNKNOWN|              STREET|   N.Y. POLICE DEPT|  996424.0|  210017.0|       UNKNOWN|       UNKNOWN| UNKNOWN|40.743124599000055|-73.95606807299998|(40.7431245990000...|      UNKNOWN|       UNKNOWN|      E|\n",
            "| 355952564|  12/21/2019|2022-09-13 02:35:00|       46.0|12/21/2019|  101|MURDER & NON-NEGL...|       COMPLETED|     FELONY|  UNKNOWN|           INSIDE|               OTHER|   N.Y. POLICE DEPT| 1009507.0|  252093.0|         18-24|BLACK HISPANIC|       M| 40.85858397000004|-73.90869606999998|(40.8585839700000...|        18-24|WHITE HISPANIC|      M|\n",
            "| 249276017|  12/20/2019|2022-09-13 14:00:00|       42.0|12/21/2019|  106|      FELONY ASSAULT|       COMPLETED|     FELONY|    BRONX|          UNKNOWN|              STREET|   N.Y. POLICE DEPT| 1008690.0|  238862.0|       UNKNOWN|       UNKNOWN|       U| 40.82227104100008|-73.91169777999993|(40.8222710410000...|          <18|BLACK HISPANIC|      M|\n",
            "| 636997863|  12/20/2019|2022-09-13 22:18:00|       52.0|12/20/2019|  344|ASSAULT 3 & RELAT...|       COMPLETED|MISDEMEANOR|    BRONX|           INSIDE|RESIDENCE - APT. ...|   N.Y. POLICE DEPT| 1014563.0|  253789.0|         25-44|         BLACK|       M| 40.86322306500005|-73.89041071099996|(40.8632230650000...|        18-24|         BLACK|      F|\n",
            "| 183266811|  12/20/2019|2022-09-13 01:35:00|       66.0|12/20/2019|  107|            BURGLARY|       COMPLETED|     FELONY| BROOKLYN|          REAR OF|     RESIDENCE-HOUSE|   N.Y. POLICE DEPT|  989260.0|  169727.0|       UNKNOWN|       UNKNOWN| UNKNOWN| 40.63254475200006|-73.98195137599998|(40.6325447520000...|          65+|         WHITE|      F|\n",
            "| 699043216|  12/20/2019|2022-09-13 00:07:00|       50.0|12/20/2019|  341|       PETIT LARCENY|       COMPLETED|MISDEMEANOR|    BRONX|          UNKNOWN|               OTHER|        METRO NORTH| 1008839.0|  257949.0|       UNKNOWN|       UNKNOWN| UNKNOWN| 40.87465879000007|-73.91108943699999|(40.8746587900000...|        25-44|         WHITE|      F|\n",
            "| 431547413|  12/10/2019|2022-09-13 20:06:00|        7.0|12/20/2019|  114|               ARSON|       COMPLETED|     FELONY|MANHATTAN|           INSIDE|RESIDENCE - PUBLI...|N.Y. HOUSING POLICE|  987063.0|  198657.0|       UNKNOWN|       UNKNOWN| UNKNOWN| 40.71195209300004|-73.98985467599994|(40.7119520930000...|      UNKNOWN|       UNKNOWN|      E|\n",
            "| 800366831|  12/19/2019|2022-09-13 17:50:00|       43.0|12/19/2019|  341|       PETIT LARCENY|       COMPLETED|MISDEMEANOR|    BRONX|           INSIDE|    DEPARTMENT STORE|   N.Y. POLICE DEPT| 1023380.0|  239329.0|         45-64|WHITE HISPANIC|       M|40.823499964000064|-73.85861898699994|(40.8234999640000...|      UNKNOWN|       UNKNOWN|      D|\n",
            "+----------+------------+-------------------+-----------+----------+-----+--------------------+----------------+-----------+---------+-----------------+--------------------+-------------------+----------+----------+--------------+--------------+--------+------------------+------------------+--------------------+-------------+--------------+-------+\n",
            "only showing top 20 rows\n",
            "\n"
          ]
        }
      ]
    },
    {
      "cell_type": "code",
      "source": [
        "data_updated_4.select([count(when(isnull(c),c)).alias(c) for c in data_updated_4.columns]).show()"
      ],
      "metadata": {
        "id": "UcXzRAyAsaks",
        "outputId": "a6d591b1-4a90-483a-88f0-b8abb2f0e569",
        "colab": {
          "base_uri": "https://localhost:8080/"
        }
      },
      "execution_count": 37,
      "outputs": [
        {
          "output_type": "stream",
          "name": "stdout",
          "text": [
            "+----------+------------+------------+-----------+------+-----+---------+----------------+----------+-------+-----------------+-------------+----------+----------+----------+--------------+---------+--------+--------+---------+-------+-------------+--------+-------+\n",
            "|CMPLNT_NUM|CMPLNT_FR_DT|CMPLNT_FR_TM|ADDR_PCT_CD|RPT_DT|KY_CD|OFNS_DESC|CRM_ATPT_CPTD_CD|LAW_CAT_CD|BORO_NM|LOC_OF_OCCUR_DESC|PREM_TYP_DESC|JURIS_DESC|X_COORD_CD|Y_COORD_CD|SUSP_AGE_GROUP|SUSP_RACE|SUSP_SEX|Latitude|Longitude|Lat_Lon|VIC_AGE_GROUP|VIC_RACE|VIC_SEX|\n",
            "+----------+------------+------------+-----------+------+-----+---------+----------------+----------+-------+-----------------+-------------+----------+----------+----------+--------------+---------+--------+--------+---------+-------+-------------+--------+-------+\n",
            "|         0|           0|           0|          8|     0|    0|        0|               0|         0|      0|                0|            0|         0|        19|        19|             0|        0|       0|       0|       19|     19|            0|       0|      0|\n",
            "+----------+------------+------------+-----------+------+-----+---------+----------------+----------+-------+-----------------+-------------+----------+----------+----------+--------------+---------+--------+--------+---------+-------+-------------+--------+-------+\n",
            "\n"
          ]
        }
      ]
    },
    {
      "cell_type": "code",
      "source": [
        "data_updated_4_mean = data_updated_4.fillna(value=0,subset=['Longitude']).select(mean(col('Longitude')).alias('avg')).collect()"
      ],
      "metadata": {
        "id": "5iLEa7gssjcH"
      },
      "execution_count": 42,
      "outputs": []
    },
    {
      "cell_type": "code",
      "source": [
        "avg = data_updated_4_mean[0]['avg']"
      ],
      "metadata": {
        "id": "7lqwwZGFtLbF"
      },
      "execution_count": 43,
      "outputs": []
    },
    {
      "cell_type": "code",
      "source": [
        "data_updated_5 = data_updated_4.fillna(value=avg,subset=['Longitude'])"
      ],
      "metadata": {
        "id": "on5UBzVAtQCn"
      },
      "execution_count": 44,
      "outputs": []
    },
    {
      "cell_type": "code",
      "source": [
        "data_updated_5.select([count(when(isnull(c),c)).alias(c) for c in data_updated_5.columns]).show()"
      ],
      "metadata": {
        "id": "jNs2TlTptYQK",
        "outputId": "809d8030-f55e-45fb-9427-83b1864e5147",
        "colab": {
          "base_uri": "https://localhost:8080/"
        }
      },
      "execution_count": 45,
      "outputs": [
        {
          "output_type": "stream",
          "name": "stdout",
          "text": [
            "+----------+------------+------------+-----------+------+-----+---------+----------------+----------+-------+-----------------+-------------+----------+----------+----------+--------------+---------+--------+--------+---------+-------+-------------+--------+-------+\n",
            "|CMPLNT_NUM|CMPLNT_FR_DT|CMPLNT_FR_TM|ADDR_PCT_CD|RPT_DT|KY_CD|OFNS_DESC|CRM_ATPT_CPTD_CD|LAW_CAT_CD|BORO_NM|LOC_OF_OCCUR_DESC|PREM_TYP_DESC|JURIS_DESC|X_COORD_CD|Y_COORD_CD|SUSP_AGE_GROUP|SUSP_RACE|SUSP_SEX|Latitude|Longitude|Lat_Lon|VIC_AGE_GROUP|VIC_RACE|VIC_SEX|\n",
            "+----------+------------+------------+-----------+------+-----+---------+----------------+----------+-------+-----------------+-------------+----------+----------+----------+--------------+---------+--------+--------+---------+-------+-------------+--------+-------+\n",
            "|         0|           0|           0|          8|     0|    0|        0|               0|         0|      0|                0|            0|         0|        19|        19|             0|        0|       0|       0|        0|     19|            0|       0|      0|\n",
            "+----------+------------+------------+-----------+------+-----+---------+----------------+----------+-------+-----------------+-------------+----------+----------+----------+--------------+---------+--------+--------+---------+-------+-------------+--------+-------+\n",
            "\n"
          ]
        }
      ]
    },
    {
      "cell_type": "code",
      "source": [
        "data_updated_5_mean = data_updated_5.fillna(value=0,subset=['X_COORD_CD']).select(mean(col('X_COORD_CD')).alias('avg')).collect()"
      ],
      "metadata": {
        "id": "dtgBVTowtnfM"
      },
      "execution_count": 46,
      "outputs": []
    },
    {
      "cell_type": "code",
      "source": [
        "avg = data_updated_5_mean[0]['avg']"
      ],
      "metadata": {
        "id": "vD9TuYieuhNS"
      },
      "execution_count": 47,
      "outputs": []
    },
    {
      "cell_type": "code",
      "source": [
        "data_updated_6 = data_updated_5.fillna(value=avg,subset=['X_COORD_CD'])"
      ],
      "metadata": {
        "id": "k-CxI_ZIulNv"
      },
      "execution_count": 48,
      "outputs": []
    },
    {
      "cell_type": "code",
      "source": [
        "data_updated_6_mean = data_updated_6.fillna(value=0,subset=['Y_COORD_CD']).select(mean(col('Y_COORD_CD')).alias('avg')).collect()"
      ],
      "metadata": {
        "id": "mbBAzNBEvSAO"
      },
      "execution_count": 49,
      "outputs": []
    },
    {
      "cell_type": "code",
      "source": [
        "avg = data_updated_6_mean[0]['avg']"
      ],
      "metadata": {
        "id": "RYTqAojavcCF"
      },
      "execution_count": 50,
      "outputs": []
    },
    {
      "cell_type": "code",
      "source": [
        "data_updated_7 = data_updated_6.fillna(value=avg,subset=['Y_COORD_CD'])"
      ],
      "metadata": {
        "id": "pXui_GWxvfVq"
      },
      "execution_count": 51,
      "outputs": []
    },
    {
      "cell_type": "code",
      "source": [
        "data_updated_7.select([count(when(isnull(c),c)).alias(c) for c in data_updated_7.columns]).show()"
      ],
      "metadata": {
        "id": "Ftf9U_a6vj6a",
        "outputId": "9ebe70d1-0b19-45fe-a91d-6a308ab1a24a",
        "colab": {
          "base_uri": "https://localhost:8080/"
        }
      },
      "execution_count": 52,
      "outputs": [
        {
          "output_type": "stream",
          "name": "stdout",
          "text": [
            "+----------+------------+------------+-----------+------+-----+---------+----------------+----------+-------+-----------------+-------------+----------+----------+----------+--------------+---------+--------+--------+---------+-------+-------------+--------+-------+\n",
            "|CMPLNT_NUM|CMPLNT_FR_DT|CMPLNT_FR_TM|ADDR_PCT_CD|RPT_DT|KY_CD|OFNS_DESC|CRM_ATPT_CPTD_CD|LAW_CAT_CD|BORO_NM|LOC_OF_OCCUR_DESC|PREM_TYP_DESC|JURIS_DESC|X_COORD_CD|Y_COORD_CD|SUSP_AGE_GROUP|SUSP_RACE|SUSP_SEX|Latitude|Longitude|Lat_Lon|VIC_AGE_GROUP|VIC_RACE|VIC_SEX|\n",
            "+----------+------------+------------+-----------+------+-----+---------+----------------+----------+-------+-----------------+-------------+----------+----------+----------+--------------+---------+--------+--------+---------+-------+-------------+--------+-------+\n",
            "|         0|           0|           0|          8|     0|    0|        0|               0|         0|      0|                0|            0|         0|         0|         0|             0|        0|       0|       0|        0|     19|            0|       0|      0|\n",
            "+----------+------------+------------+-----------+------+-----+---------+----------------+----------+-------+-----------------+-------------+----------+----------+----------+--------------+---------+--------+--------+---------+-------+-------------+--------+-------+\n",
            "\n"
          ]
        }
      ]
    },
    {
      "cell_type": "code",
      "source": [
        "data_updated_8 = data_updated_7.drop('Lat_Lon')"
      ],
      "metadata": {
        "id": "fG5y_T-bvuvr"
      },
      "execution_count": 53,
      "outputs": []
    },
    {
      "cell_type": "code",
      "source": [
        "data_updated_8.columns"
      ],
      "metadata": {
        "id": "DrGKLydlxAv4",
        "outputId": "1eb62a3f-a61f-4ddf-f17d-45028c3d901a",
        "colab": {
          "base_uri": "https://localhost:8080/"
        }
      },
      "execution_count": 54,
      "outputs": [
        {
          "output_type": "execute_result",
          "data": {
            "text/plain": [
              "['CMPLNT_NUM',\n",
              " 'CMPLNT_FR_DT',\n",
              " 'CMPLNT_FR_TM',\n",
              " 'ADDR_PCT_CD',\n",
              " 'RPT_DT',\n",
              " 'KY_CD',\n",
              " 'OFNS_DESC',\n",
              " 'CRM_ATPT_CPTD_CD',\n",
              " 'LAW_CAT_CD',\n",
              " 'BORO_NM',\n",
              " 'LOC_OF_OCCUR_DESC',\n",
              " 'PREM_TYP_DESC',\n",
              " 'JURIS_DESC',\n",
              " 'X_COORD_CD',\n",
              " 'Y_COORD_CD',\n",
              " 'SUSP_AGE_GROUP',\n",
              " 'SUSP_RACE',\n",
              " 'SUSP_SEX',\n",
              " 'Latitude',\n",
              " 'Longitude',\n",
              " 'VIC_AGE_GROUP',\n",
              " 'VIC_RACE',\n",
              " 'VIC_SEX']"
            ]
          },
          "metadata": {},
          "execution_count": 54
        }
      ]
    },
    {
      "cell_type": "code",
      "source": [
        "data_updated_9 = data_updated_8.na.fill(value = 0,subset = ['ADDR_PCT_CD'])"
      ],
      "metadata": {
        "id": "j4NNsq-3xHu1"
      },
      "execution_count": 55,
      "outputs": []
    },
    {
      "cell_type": "code",
      "source": [
        "data_updated_9.select([count(when(isnull(c),c)).alias(c) for c in data_updated_9.columns]).show()"
      ],
      "metadata": {
        "id": "qnzRyUQ7xbPD",
        "outputId": "974acadf-ab80-4d36-8037-bbadd355f97c",
        "colab": {
          "base_uri": "https://localhost:8080/"
        }
      },
      "execution_count": 56,
      "outputs": [
        {
          "output_type": "stream",
          "name": "stdout",
          "text": [
            "+----------+------------+------------+-----------+------+-----+---------+----------------+----------+-------+-----------------+-------------+----------+----------+----------+--------------+---------+--------+--------+---------+-------------+--------+-------+\n",
            "|CMPLNT_NUM|CMPLNT_FR_DT|CMPLNT_FR_TM|ADDR_PCT_CD|RPT_DT|KY_CD|OFNS_DESC|CRM_ATPT_CPTD_CD|LAW_CAT_CD|BORO_NM|LOC_OF_OCCUR_DESC|PREM_TYP_DESC|JURIS_DESC|X_COORD_CD|Y_COORD_CD|SUSP_AGE_GROUP|SUSP_RACE|SUSP_SEX|Latitude|Longitude|VIC_AGE_GROUP|VIC_RACE|VIC_SEX|\n",
            "+----------+------------+------------+-----------+------+-----+---------+----------------+----------+-------+-----------------+-------------+----------+----------+----------+--------------+---------+--------+--------+---------+-------------+--------+-------+\n",
            "|         0|           0|           0|          0|     0|    0|        0|               0|         0|      0|                0|            0|         0|         0|         0|             0|        0|       0|       0|        0|            0|       0|      0|\n",
            "+----------+------------+------------+-----------+------+-----+---------+----------------+----------+-------+-----------------+-------------+----------+----------+----------+--------------+---------+--------+--------+---------+-------------+--------+-------+\n",
            "\n"
          ]
        }
      ]
    },
    {
      "cell_type": "code",
      "source": [],
      "metadata": {
        "id": "osTmfBPbxhH0"
      },
      "execution_count": null,
      "outputs": []
    }
  ]
}